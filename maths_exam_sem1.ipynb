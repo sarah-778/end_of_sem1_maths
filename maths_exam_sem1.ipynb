{
 "cells": [
  {
   "cell_type": "markdown",
   "id": "3886ba96-f0d4-4cb4-9a5b-20d83415f2a0",
   "metadata": {},
   "source": [
    "## question 5"
   ]
  },
  {
   "cell_type": "markdown",
   "id": "7e663d9f-e14b-43a4-b147-7c64c7ea0b3a",
   "metadata": {},
   "source": [
    "## cosntracting the matrix"
   ]
  },
  {
   "cell_type": "code",
   "execution_count": 27,
   "id": "bd75431b-5a86-448f-a0ac-1f41a4af4835",
   "metadata": {},
   "outputs": [],
   "source": [
    "import numpy as np"
   ]
  },
  {
   "cell_type": "code",
   "execution_count": 29,
   "id": "1fac1bde-e3a7-4a17-94ed-d0d9ff408f37",
   "metadata": {},
   "outputs": [
    {
     "name": "stdout",
     "output_type": "stream",
     "text": [
      "[[1.  0.2 0.5]\n",
      " [0.2 1.  0.8]\n",
      " [0.5 0.8 1. ]]\n"
     ]
    }
   ],
   "source": [
    "x = np.array([[1,0.2,0.5],[0.2,1,0.8],[0.5,0.8,1]])\n",
    "print(x)"
   ]
  },
  {
   "cell_type": "markdown",
   "id": "2fee353e-7888-4ad4-b5e0-ca2216a57e71",
   "metadata": {},
   "source": [
    "## i) transpose of the matrix"
   ]
  },
  {
   "cell_type": "code",
   "execution_count": 39,
   "id": "fb210a52-ea6e-40a9-861e-08121123c11e",
   "metadata": {},
   "outputs": [
    {
     "name": "stdout",
     "output_type": "stream",
     "text": [
      "[[1.  0.2 0.5]\n",
      " [0.2 1.  0.8]\n",
      " [0.5 0.8 1. ]]\n"
     ]
    }
   ],
   "source": [
    "x = np.array([[1,0.2,0.5],[0.2,1,0.8],[0.5,0.8,1]])\n",
    "x1= np.transpose(x)\n",
    "print(x1)"
   ]
  },
  {
   "cell_type": "markdown",
   "id": "90a0da8f-9b3a-42c7-a298-226fe05eda84",
   "metadata": {},
   "source": [
    "## )ii Determinant of the matrix"
   ]
  },
  {
   "cell_type": "code",
   "execution_count": 21,
   "id": "1b035d60-f9a3-4953-a615-a2a28a43ad98",
   "metadata": {},
   "outputs": [
    {
     "name": "stdout",
     "output_type": "stream",
     "text": [
      "0.2299999999999999\n"
     ]
    }
   ],
   "source": [
    "x = np.array([[1,0.2,0.5],[0.2,1,0.8],[0.5,0.8,1]])\n",
    "x =np.linalg.det(x)\n",
    "print(x)"
   ]
  },
  {
   "cell_type": "markdown",
   "id": "2f64540a-56f1-4999-a4dd-4871cb58a6e2",
   "metadata": {},
   "source": [
    "## iii) decomposing the matrix"
   ]
  },
  {
   "cell_type": "code",
   "execution_count": 47,
   "id": "ba482c95-a1e6-4791-ae34-67f390bbd20b",
   "metadata": {},
   "outputs": [
    {
     "name": "stdout",
     "output_type": "stream",
     "text": [
      "(3, 3)\n"
     ]
    }
   ],
   "source": [
    "x = np.array([[1,0.2,0.5],[0.2,1,0.8],[0.5,0.8,1]])\n",
    "shape_x = x.shape\n",
    "print(shape_x)"
   ]
  },
  {
   "cell_type": "markdown",
   "id": "c9863f49-5001-46aa-9035-bbedd0f24b5a",
   "metadata": {},
   "source": [
    "## iv) transforming the matrix"
   ]
  },
  {
   "cell_type": "code",
   "execution_count": 60,
   "id": "04bd5fa7-a46c-4ae9-8f44-bcb9fccfca53",
   "metadata": {},
   "outputs": [
    {
     "ename": "AttributeError",
     "evalue": "module 'numpy' has no attribute 'transform'",
     "output_type": "error",
     "traceback": [
      "\u001b[1;31m---------------------------------------------------------------------------\u001b[0m",
      "\u001b[1;31mAttributeError\u001b[0m                            Traceback (most recent call last)",
      "Cell \u001b[1;32mIn[60], line 2\u001b[0m\n\u001b[0;32m      1\u001b[0m x \u001b[38;5;241m=\u001b[39m np\u001b[38;5;241m.\u001b[39marray([[\u001b[38;5;241m1\u001b[39m,\u001b[38;5;241m0.2\u001b[39m,\u001b[38;5;241m0.5\u001b[39m],[\u001b[38;5;241m0.2\u001b[39m,\u001b[38;5;241m1\u001b[39m,\u001b[38;5;241m0.8\u001b[39m],[\u001b[38;5;241m0.5\u001b[39m,\u001b[38;5;241m0.8\u001b[39m,\u001b[38;5;241m1\u001b[39m]])\n\u001b[1;32m----> 2\u001b[0m x1 \u001b[38;5;241m=\u001b[39m np\u001b[38;5;241m.\u001b[39mtransform(\u001b[38;5;241m2\u001b[39m,\u001b[38;5;241m3\u001b[39m)\n\u001b[0;32m      3\u001b[0m \u001b[38;5;28mprint\u001b[39m(x1)\n",
      "File \u001b[1;32m~\\anaconda3\\Lib\\site-packages\\numpy\\__init__.py:333\u001b[0m, in \u001b[0;36m__getattr__\u001b[1;34m(attr)\u001b[0m\n\u001b[0;32m    330\u001b[0m     \u001b[38;5;124m\"\u001b[39m\u001b[38;5;124mRemoved in NumPy 1.25.0\u001b[39m\u001b[38;5;124m\"\u001b[39m\n\u001b[0;32m    331\u001b[0m     \u001b[38;5;28;01mraise\u001b[39;00m \u001b[38;5;167;01mRuntimeError\u001b[39;00m(\u001b[38;5;124m\"\u001b[39m\u001b[38;5;124mTester was removed in NumPy 1.25.\u001b[39m\u001b[38;5;124m\"\u001b[39m)\n\u001b[1;32m--> 333\u001b[0m \u001b[38;5;28;01mraise\u001b[39;00m \u001b[38;5;167;01mAttributeError\u001b[39;00m(\u001b[38;5;124m\"\u001b[39m\u001b[38;5;124mmodule \u001b[39m\u001b[38;5;132;01m{!r}\u001b[39;00m\u001b[38;5;124m has no attribute \u001b[39m\u001b[38;5;124m\"\u001b[39m\n\u001b[0;32m    334\u001b[0m                      \u001b[38;5;124m\"\u001b[39m\u001b[38;5;132;01m{!r}\u001b[39;00m\u001b[38;5;124m\"\u001b[39m\u001b[38;5;241m.\u001b[39mformat(\u001b[38;5;18m__name__\u001b[39m, attr))\n",
      "\u001b[1;31mAttributeError\u001b[0m: module 'numpy' has no attribute 'transform'"
     ]
    }
   ],
   "source": [
    "x = np.array([[1,0.2,0.5],[0.2,1,0.8],[0.5,0.8,1]])\n",
    "x1 = np.transform(2,3)\n",
    "print(x1)\n"
   ]
  },
  {
   "cell_type": "code",
   "execution_count": null,
   "id": "c0de8a1e-9335-4e02-907d-aaa1f7b4c219",
   "metadata": {},
   "outputs": [],
   "source": []
  },
  {
   "cell_type": "markdown",
   "id": "9fb71b1f-afd3-4a9f-81ca-30e9448693f0",
   "metadata": {},
   "source": [
    "## question 6"
   ]
  },
  {
   "cell_type": "code",
   "execution_count": 96,
   "id": "e58cda5d-e373-49e1-ac41-c627576c7936",
   "metadata": {},
   "outputs": [],
   "source": [
    "from numpy import random"
   ]
  },
  {
   "cell_type": "code",
   "execution_count": 98,
   "id": "d7f0b88a-c866-4cce-a2fb-8e7887467df6",
   "metadata": {},
   "outputs": [
    {
     "name": "stdout",
     "output_type": "stream",
     "text": [
      "[ 8  1  4  3 11  3  5  7  6  7  2  6  3  4  7  3  5  3  7  4  2  4  6  9\n",
      "  4  4  5  4  9  6  7  7  6  2  9  3  6  4  8  1  4  7  2 13  5  3  4  4\n",
      "  6  4 10  3 10  2  5  0  3  4  4  3  2  3  4  3  5  5  3  3  4  4  2  4\n",
      "  9  4  1  9  5  3  4  4  6  4  9  4  6  1  5  7  3  2  5  2 10  6  3  4\n",
      "  6  4  5  2  6  7  5  6  4  4  5  3  4  7  5  8  4  2  4  3  5  2  3  8\n",
      "  5  4  5  8  2  4 12  4  2  0  4  3  7  8  5  5  3  3  2  8  2  6  2  1\n",
      "  4  3  3  4  5 10  6  5  9  7  3  6  6  7  1  5  7  8  4  6 10  3  9  6\n",
      "  4  7  4  8  2  5  3  5  5  5  6  3  6  6  4  6  4  2  4  5  7  4  9  7\n",
      "  7  2  7  5  6  4  3  9  6  7  5  4  9  6  5  3  8  3  1  4 10  4  3  4\n",
      "  5  6  4  8  6  7  2  7  2  4  7  4 10  6  5  6  4  3  5  4  4  6  3  5\n",
      "  5  2  6  5  9  9  6  4  3  5  7  5  5  6  6  3  5  4  5  4  6  4  4  4\n",
      "  5  7  3  7  6  1  6  5  2  3  8  5 10  6  5  1  2  4  9  5  1  7  8  2\n",
      "  4  6  4  4  4  9  5  5  7  3  5  3  4  4  4  7  7  3  8  6  8  7  4  5\n",
      "  5  3  5  3  6  5  7  7  5 11  6  8  5 11  4  2  7  2  2  6  6  4  6  5\n",
      "  4  6  3  3  5  7  3  8  7  7  6  8  2  3  6  2  8  3  5  1  3  9  7  6\n",
      "  8  6  1  5  5  5  2  5  5  6  3  5  5  6  6  8  5 12  8  4  8  4  5  4\n",
      "  4  6  4  7  6  3  4  4  5  6  4  2  3  4  6  4  2  4  1  8  8  6  2  4\n",
      "  5  6  4  4  7  8  4  2  6  4  5 10  4  4  5  3  4  9  8  9  3  5  5  3\n",
      " 10  6  9  1  8  3  5 10  5  5  9  3  6  8  5  6  8  4  6  6  6  5  5  4\n",
      "  4  7  7  3  5  4  8  2  4  4  3  6  6  7  8  5  2  4  5  5  6  5  3  3\n",
      "  4  4  2  1  8  3  4  3  8  1  7  8  5  7  4  5  3  5  4  9  3  5  1  3\n",
      "  6  3  9  3  3  8  5 14  5  7  5  7  5  4  7  8  1  8  6  6  7  6  8  6\n",
      "  3  5  4  4  7  7  2  3  7  3  8  7  7  4  9  4  4  7  5  8  2  4  5  6\n",
      "  4  6  6  5  5  4  5  9  9  6  4  5  4  4  9  4  3  8  5  6  6  6  6  6\n",
      "  3  3  2 11  5  5  5  4  7  4  7  6  5  6  3  6  5  4  7  7  5  8  5  4\n",
      "  7  4  7  8  4  5  6  6  5 10  6  8  6  1  3  5  3  4  2  7  7  6  5  5\n",
      "  3  7  6  6  9  4  5  4  5  5  1  1  4  5  6  7  4  4  7  3  3  3  6  7\n",
      "  4  7  3  0  5  6  2  4  4  6  4  4  3  4  6  2  6 10  5  6  5 10  7  4\n",
      "  6  3  7  6  3  3  3  4 11  5  6 13  6  5  0  6  6  6  5  7  6  5  1  3\n",
      "  4  3  5  3  3  9  4  4  6  3  6  3  6  6  8  6  4  4  8  6  3  3  7  7\n",
      "  7  5  5  2  8  2  6  9  3  5  5  7  8  4  2  5  4  8  5  4  4  4  9  6\n",
      "  4  4  7  8  6  5  3  6  4  4  5  5  3  6  6  8  4  4  4  3  8  5  2  3\n",
      "  7  4  4  4  5  5  7  8  5  3  6  3  6  8  3  2  5  3 11  7 12  3  9  5\n",
      "  3  6  9  5  7  2  5  3  4  1 10  2  7  4  3  5  6  6  2  2  2  5  2  6\n",
      "  7  4  7  5  6  9  5  7  3  3  5  6  4 10  5  2  8  3  2  2  5  4  8  5\n",
      "  6  5  2  5  3  4  4  5  5  5  3 10  5  6  7  3  3  2  5  4  4  3  2  4\n",
      "  2  6  5  3  3  3  6  7  5  1  5  3  1  6  2  8  2  3  6  2  5  8  2  5\n",
      "  6  6  6  8  4  5  2  5 10  2  7  4  8  4  8  5  4  3  6  1  3  5  9  1\n",
      "  6  7 10  3  4  7  8  4  5  7  7  2  2  6  3  8  3  5  2  4  7  8  2  8\n",
      "  2  4  6  3  6  7  5  4  6 13  4  6  6  6  3  4  5  5  2  8  4  6  7  8\n",
      "  5  2  8  9  7  2  4  6  9  7  5  3  6  7  3  5  6  4  7  5  7  2  3  4\n",
      "  4  3  5  6  4  6  6  5  7  3  3  5 10  4  2  6]\n"
     ]
    }
   ],
   "source": [
    "y = random.poisson(lam =5,size =1000)\n",
    "print(y)"
   ]
  },
  {
   "cell_type": "markdown",
   "id": "97578633-2465-4d95-8b3e-168ec539fbd3",
   "metadata": {},
   "source": [
    "## ii) Mean"
   ]
  },
  {
   "cell_type": "code",
   "execution_count": 101,
   "id": "22e3c3d4-50ae-49c3-bbcb-2950c1f3d74f",
   "metadata": {},
   "outputs": [
    {
     "data": {
      "text/plain": [
       "4.911"
      ]
     },
     "execution_count": 101,
     "metadata": {},
     "output_type": "execute_result"
    }
   ],
   "source": [
    "y_mean = y = random.poisson(lam =5,size =1000).mean()\n",
    "y_mean\n",
    "\n"
   ]
  },
  {
   "cell_type": "markdown",
   "id": "f648e6f7-4374-400b-925b-566a33be4119",
   "metadata": {},
   "source": [
    "## variance"
   ]
  },
  {
   "cell_type": "code",
   "execution_count": 104,
   "id": "c218e35e-71b1-4c5d-a341-8b29c9080905",
   "metadata": {},
   "outputs": [
    {
     "ename": "AttributeError",
     "evalue": "'numpy.ndarray' object has no attribute 'variance'",
     "output_type": "error",
     "traceback": [
      "\u001b[1;31m---------------------------------------------------------------------------\u001b[0m",
      "\u001b[1;31mAttributeError\u001b[0m                            Traceback (most recent call last)",
      "Cell \u001b[1;32mIn[104], line 1\u001b[0m\n\u001b[1;32m----> 1\u001b[0m y_variance \u001b[38;5;241m=\u001b[39m y \u001b[38;5;241m=\u001b[39m random\u001b[38;5;241m.\u001b[39mpoisson(lam \u001b[38;5;241m=\u001b[39m\u001b[38;5;241m5\u001b[39m,size \u001b[38;5;241m=\u001b[39m\u001b[38;5;241m1000\u001b[39m)\u001b[38;5;241m.\u001b[39mvariance()\n\u001b[0;32m      2\u001b[0m y_variance\n",
      "\u001b[1;31mAttributeError\u001b[0m: 'numpy.ndarray' object has no attribute 'variance'"
     ]
    }
   ],
   "source": [
    "y_variance = y = random.poisson(lam =5,size =1000).variance()\n",
    "y_variance"
   ]
  },
  {
   "cell_type": "code",
   "execution_count": null,
   "id": "976378d7-c9b3-4206-950f-c4d8cd80cd9e",
   "metadata": {},
   "outputs": [],
   "source": []
  },
  {
   "cell_type": "markdown",
   "id": "ef83b2ae-9f12-429a-b79c-b1cb95c7d35b",
   "metadata": {},
   "source": [
    "## iii) visualizing the distribution"
   ]
  },
  {
   "cell_type": "code",
   "execution_count": 108,
   "id": "a74c69e2-d993-4e2c-bbf8-7ba5ef2fa86b",
   "metadata": {},
   "outputs": [],
   "source": [
    "import matplotlib.pyplot as plt\n"
   ]
  },
  {
   "cell_type": "code",
   "execution_count": 110,
   "id": "a552d5e8-9c7b-43cf-8e04-e9008752064f",
   "metadata": {},
   "outputs": [],
   "source": [
    "import seaborn as sns"
   ]
  },
  {
   "cell_type": "code",
   "execution_count": 115,
   "id": "f03f8a4b-0459-41b5-964d-72b312881294",
   "metadata": {},
   "outputs": [],
   "source": [
    "y = random.poisson(lam = 5,size =1000)"
   ]
  },
  {
   "cell_type": "code",
   "execution_count": 126,
   "id": "80702446-6c9f-4a50-b87a-b17517193b19",
   "metadata": {},
   "outputs": [
    {
     "data": {
      "image/png": "[encoded data removed]",
      "text/plain": [
       "<Figure size 640x480 with 1 Axes>"
      ]
     },
     "metadata": {},
     "output_type": "display_data"
    }
   ],
   "source": [
    "sns.histplot(y,label ='poisson',color=\"purple\")\n",
    "plt.title (\"The histogram showing the visualisation of distribution\")             \n",
    "plt.xlabel(\"number of success\")\n",
    "plt.ylabel(\"frequency\")\n",
    "plt.show() "
   ]
  },
  {
   "cell_type": "code",
   "execution_count": null,
   "id": "e51e7568-90c3-4b93-b0bd-e9a7bfdb2f9a",
   "metadata": {},
   "outputs": [],
   "source": []
  },
  {
   "cell_type": "code",
   "execution_count": null,
   "id": "c35dfbd5-adea-4b29-a329-8abd6e29f477",
   "metadata": {},
   "outputs": [],
   "source": []
  }
 ],
 "metadata": {
  "kernelspec": {
   "display_name": "Python 3 (ipykernel)",
   "language": "python",
   "name": "python3"
  },
  "language_info": {
   "codemirror_mode": {
    "name": "ipython",
    "version": 3
   },
   "file_extension": ".py",
   "mimetype": "text/x-python",
   "name": "python",
   "nbconvert_exporter": "python",
   "pygments_lexer": "ipython3",
   "version": "3.12.7"
  }
 },
 "nbformat": 4,
 "nbformat_minor": 5
}
